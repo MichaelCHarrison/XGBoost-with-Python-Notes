{
 "cells": [
  {
   "cell_type": "markdown",
   "metadata": {},
   "source": [
    "# Multithreading\n",
    "\n",
    "\n",
    "The XGBoost library for gradient boosting uses is designed for e cient multi-core parallel processing. This allows it to e ciently use all of the CPU cores in your system when training."
   ]
  },
  {
   "cell_type": "markdown",
   "metadata": {},
   "source": [
    "### Evaluating the effect of number of threads"
   ]
  },
  {
   "cell_type": "code",
   "execution_count": null,
   "metadata": {
    "collapsed": true
   },
   "outputs": [],
   "source": [
    "results = []\n",
    "num_threads = [1,2,3,4]\n",
    "for n in num_threads:\n",
    "    start = time.time()\n",
    "    model = XGBClassifier(nthread=n)\n",
    "    model.fit(x_train, y_train)\n",
    "    elapsed = time.time() - start\n",
    "    print(n, elapsed)\n",
    "    results.append(elapsed)"
   ]
  },
  {
   "cell_type": "markdown",
   "metadata": {},
   "source": [
    "### Using this approach with the Otto dataset"
   ]
  },
  {
   "cell_type": "code",
   "execution_count": 9,
   "metadata": {
    "collapsed": false
   },
   "outputs": [
    {
     "data": {
      "text/plain": [
       "(61878, 95)"
      ]
     },
     "execution_count": 9,
     "metadata": {},
     "output_type": "execute_result"
    }
   ],
   "source": [
    "#Load Libraries\n",
    "from pandas import read_csv\n",
    "from xgboost import XGBClassifier\n",
    "from sklearn.preprocessing import LabelEncoder\n",
    "from time import time\n",
    "from matplotlib import pyplot as pt\n",
    "\n",
    "#Load Data and Split X/Y\n",
    "filename = \"train.csv\"\n",
    "data = read_csv(filename)\n",
    "X = data.values[:,0:94]\n",
    "Y = data.values[:, 94]\n",
    "data.shape"
   ]
  },
  {
   "cell_type": "code",
   "execution_count": 14,
   "metadata": {
    "collapsed": false
   },
   "outputs": [
    {
     "name": "stdout",
     "output_type": "stream",
     "text": [
      "1 180.5742630958557\n",
      "2 180.92088294029236\n",
      "3 178.7580530643463\n",
      "4 176.77408695220947\n"
     ]
    },
    {
     "data": {
      "image/png": "[encoded data removed]",
      "text/plain": [
       "<matplotlib.figure.Figure at 0x114b1bda0>"
      ]
     },
     "metadata": {},
     "output_type": "display_data"
    }
   ],
   "source": [
    "#Encode String Target Variable as integers\n",
    "encoded_y = LabelEncoder().fit_transform(Y)\n",
    "\n",
    "#Evaluate the effect of number of threads\n",
    "results = []\n",
    "threads = [1,2,3,4,]\n",
    "for n in threads:\n",
    "    start = time()\n",
    "    model = XGBClassifier(nthread=n)\n",
    "    model.fit(X, encoded_y)\n",
    "    elapsed = time() - start\n",
    "    print(n,elapsed)\n",
    "    results.append(elapsed)\n",
    "\n",
    "#Plot results\n",
    "pt.plot(threads, results)\n",
    "pt.ylabel('Speed (seconds)')\n",
    "pt.xlabel('Number of Threads')\n",
    "pt.title(\"XGBoost Training: Thread Spread\")\n",
    "pt.show()"
   ]
  },
  {
   "cell_type": "markdown",
   "metadata": {
    "collapsed": true
   },
   "source": [
    "# Parallelism When Cross Validating XGBoost Models"
   ]
  },
  {
   "cell_type": "code",
   "execution_count": 22,
   "metadata": {
    "collapsed": false
   },
   "outputs": [
    {
     "name": "stdout",
     "output_type": "stream",
     "text": [
      "Single Thread XGBoost, Parallel Thread CV: 525.463297\n"
     ]
    },
    {
     "ename": "NameError",
     "evalue": "name 'XGBclassifier' is not defined",
     "output_type": "error",
     "traceback": [
      "\u001b[0;31m---------------------------------------------------------------------------\u001b[0m",
      "\u001b[0;31mNameError\u001b[0m                                 Traceback (most recent call last)",
      "\u001b[0;32m<ipython-input-22-6909c904f33e>\u001b[0m in \u001b[0;36m<module>\u001b[0;34m()\u001b[0m\n\u001b[1;32m     33\u001b[0m \u001b[0;31m#Parallel Thread XGBoost, Single Thread CV\u001b[0m\u001b[0;34m\u001b[0m\u001b[0;34m\u001b[0m\u001b[0m\n\u001b[1;32m     34\u001b[0m \u001b[0mstart\u001b[0m \u001b[0;34m=\u001b[0m \u001b[0mtime\u001b[0m\u001b[0;34m(\u001b[0m\u001b[0;34m)\u001b[0m\u001b[0;34m\u001b[0m\u001b[0m\n\u001b[0;32m---> 35\u001b[0;31m \u001b[0mmodel\u001b[0m \u001b[0;34m=\u001b[0m \u001b[0mXGBclassifier\u001b[0m\u001b[0;34m(\u001b[0m\u001b[0mnthread\u001b[0m\u001b[0;34m=\u001b[0m\u001b[0;34m-\u001b[0m\u001b[0;36m1\u001b[0m\u001b[0;34m)\u001b[0m\u001b[0;34m\u001b[0m\u001b[0m\n\u001b[0m\u001b[1;32m     36\u001b[0m results = cross_val_score(model, x_train, y_train, \n\u001b[1;32m     37\u001b[0m                          cv = kfold, scoring = scoring, n_jobs=1)\n",
      "\u001b[0;31mNameError\u001b[0m: name 'XGBclassifier' is not defined"
     ]
    }
   ],
   "source": [
    "#import libraries\n",
    "from pandas import read_csv\n",
    "from xgboost import XGBClassifier\n",
    "from sklearn.preprocessing import LabelEncoder\n",
    "from sklearn.model_selection import train_test_split\n",
    "from sklearn.model_selection import StratifiedKFold\n",
    "from sklearn.model_selection import cross_val_score\n",
    "from time import time\n",
    "\n",
    "#Load Data and Split X/Y; Encode Target Var\n",
    "filename = \"train.csv\"\n",
    "data = read_csv(filename)\n",
    "X = data.values[:,0:94]\n",
    "Y = data.values[:, 94]\n",
    "encoded_y = LabelEncoder().fit_transform(Y)\n",
    "\n",
    "#Create Train/Test Sets\n",
    "seed = 7\n",
    "x_train, x_test, y_train, y_test = train_test_split(X, encoded_y, test_size = 0.33, random_state = seed)\n",
    "\n",
    "#Training Harness\n",
    "kfold = StratifiedKFold(n_splits=10, shuffle = True, random_state = seed)\n",
    "scoring = \"neg_log_loss\"\n",
    "\n",
    "#Single Thread XGBoost, Parallel Thread CV\n",
    "start = time()\n",
    "model = XGBClassifier(nthread=1)\n",
    "results = cross_val_score(model, x_train, y_train, \n",
    "                          cv = kfold, scoring = scoring, n_jobs=-1)\n",
    "elapsed = time() - start\n",
    "print(\"Single Thread XGBoost, Parallel Thread CV: %f\" %(elapsed))\n",
    "\n",
    "#Parallel Thread XGBoost, Single Thread CV\n",
    "start = time()\n",
    "model = XGBClassifier(nthread=-1)\n",
    "results = cross_val_score(model, x_train, y_train, \n",
    "                         cv = kfold, scoring = scoring, n_jobs=1)\n",
    "elapsed = time() - start\n",
    "print(\"Parallel Thread XGBoost, Singled Thread CV: %f\" %(elapsed))\n",
    "\n",
    "#Single Thread XGboost, Single Thread CV\n",
    "start = time()\n",
    "model = XGBClassifier(nthread=1)\n",
    "results = cross_val_score(model, x_train, y_train, \n",
    "                         cv = kfold, scoring = scoring, n_jobs=1)\n",
    "print(\"Singled Thread XGboost, Singled Thread CV\")\n",
    "\n",
    "#Parallel Thread XGBoost, Parallel Thread CV\n",
    "start = time()\n",
    "model = XGBClassifier(nthread=-1)\n",
    "results = cross_val_score(model, x_train, y_train, \n",
    "                         cv = kfold, scoring = scoring, n_jobs=-1)\n",
    "elapsed = time() - start\n",
    "print(\"Parallel Thread XGBoost, Parallel Thread CV: %f\" %(elapsed))\n",
    "\n"
   ]
  }
 ],
 "metadata": {
  "kernelspec": {
   "display_name": "Python 3",
   "language": "python",
   "name": "python3"
  },
  "language_info": {
   "codemirror_mode": {
    "name": "ipython",
    "version": 3
   },
   "file_extension": ".py",
   "mimetype": "text/x-python",
   "name": "python",
   "nbconvert_exporter": "python",
   "pygments_lexer": "ipython3",
   "version": "3.6.0"
  }
 },
 "nbformat": 4,
 "nbformat_minor": 2
}
