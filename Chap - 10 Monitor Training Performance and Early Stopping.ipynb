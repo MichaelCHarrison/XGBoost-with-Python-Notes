{
 "cells": [
  {
   "cell_type": "markdown",
   "metadata": {},
   "source": [
    "# Early Stopping\n",
    "\n",
    "Early stopping is an approach to training complex machine learning models to avoid overfitting. It works by monitoring the performance of the model that is being trained on a separate test dataset and stopping the training procedure once the performance on the test dataset has not improved after a fixed number of training iterations.\n",
    "\n",
    "It avoids overfitting by attempting to automatically select the inflection point where perfor- mance on the test dataset starts to decrease while performance on the training dataset continues to improve as the model starts to overfit. The performance measure may be the loss function that is being optimized to train the model (such as logarithmic loss), or an external metric of interest to the problem in general (such as classification accuracy).\n"
   ]
  },
  {
   "cell_type": "markdown",
   "metadata": {},
   "source": [
    "# Monitoring Training Performance\n",
    "The XGBoost model can evaluate and report on the performance on a test set for the model during training. It supports this capability by specifying both an test dataset and an evaluation metric on the call to model.fit() when training the model and specifying verbose output. For example, we can report on the binary classification error rate (error) on a standalone test set(eval set) while training an XGBoost model."
   ]
  },
  {
   "cell_type": "code",
   "execution_count": 3,
   "metadata": {
    "collapsed": false
   },
   "outputs": [
    {
     "name": "stdout",
     "output_type": "stream",
     "text": [
      "[0]\tvalidation_0-error:0.259843\n",
      "[1]\tvalidation_0-error:0.26378\n",
      "[2]\tvalidation_0-error:0.26378\n",
      "[3]\tvalidation_0-error:0.255906\n",
      "[4]\tvalidation_0-error:0.255906\n",
      "[5]\tvalidation_0-error:0.26378\n",
      "[6]\tvalidation_0-error:0.23622\n",
      "[7]\tvalidation_0-error:0.255906\n",
      "[8]\tvalidation_0-error:0.248031\n",
      "[9]\tvalidation_0-error:0.248031\n",
      "[10]\tvalidation_0-error:0.248031\n",
      "[11]\tvalidation_0-error:0.232283\n",
      "[12]\tvalidation_0-error:0.228346\n",
      "[13]\tvalidation_0-error:0.228346\n",
      "[14]\tvalidation_0-error:0.228346\n",
      "[15]\tvalidation_0-error:0.228346\n",
      "[16]\tvalidation_0-error:0.228346\n",
      "[17]\tvalidation_0-error:0.228346\n",
      "[18]\tvalidation_0-error:0.224409\n",
      "[19]\tvalidation_0-error:0.232283\n",
      "[20]\tvalidation_0-error:0.232283\n",
      "[21]\tvalidation_0-error:0.23622\n",
      "[22]\tvalidation_0-error:0.23622\n",
      "[23]\tvalidation_0-error:0.232283\n",
      "[24]\tvalidation_0-error:0.228346\n",
      "[25]\tvalidation_0-error:0.228346\n",
      "[26]\tvalidation_0-error:0.224409\n",
      "[27]\tvalidation_0-error:0.224409\n",
      "[28]\tvalidation_0-error:0.228346\n",
      "[29]\tvalidation_0-error:0.232283\n",
      "[30]\tvalidation_0-error:0.228346\n",
      "[31]\tvalidation_0-error:0.224409\n",
      "[32]\tvalidation_0-error:0.224409\n",
      "[33]\tvalidation_0-error:0.228346\n",
      "[34]\tvalidation_0-error:0.228346\n",
      "[35]\tvalidation_0-error:0.224409\n",
      "[36]\tvalidation_0-error:0.228346\n",
      "[37]\tvalidation_0-error:0.224409\n",
      "[38]\tvalidation_0-error:0.216535\n",
      "[39]\tvalidation_0-error:0.220472\n",
      "[40]\tvalidation_0-error:0.216535\n",
      "[41]\tvalidation_0-error:0.216535\n",
      "[42]\tvalidation_0-error:0.216535\n",
      "[43]\tvalidation_0-error:0.216535\n",
      "[44]\tvalidation_0-error:0.212598\n",
      "[45]\tvalidation_0-error:0.224409\n",
      "[46]\tvalidation_0-error:0.224409\n",
      "[47]\tvalidation_0-error:0.220472\n",
      "[48]\tvalidation_0-error:0.224409\n",
      "[49]\tvalidation_0-error:0.232283\n",
      "[50]\tvalidation_0-error:0.228346\n",
      "[51]\tvalidation_0-error:0.224409\n",
      "[52]\tvalidation_0-error:0.224409\n",
      "[53]\tvalidation_0-error:0.232283\n",
      "[54]\tvalidation_0-error:0.228346\n",
      "[55]\tvalidation_0-error:0.228346\n",
      "[56]\tvalidation_0-error:0.224409\n",
      "[57]\tvalidation_0-error:0.224409\n",
      "[58]\tvalidation_0-error:0.224409\n",
      "[59]\tvalidation_0-error:0.224409\n",
      "[60]\tvalidation_0-error:0.224409\n",
      "[61]\tvalidation_0-error:0.224409\n",
      "[62]\tvalidation_0-error:0.224409\n",
      "[63]\tvalidation_0-error:0.224409\n",
      "[64]\tvalidation_0-error:0.224409\n",
      "[65]\tvalidation_0-error:0.224409\n",
      "[66]\tvalidation_0-error:0.220472\n",
      "[67]\tvalidation_0-error:0.216535\n",
      "[68]\tvalidation_0-error:0.216535\n",
      "[69]\tvalidation_0-error:0.216535\n",
      "[70]\tvalidation_0-error:0.216535\n",
      "[71]\tvalidation_0-error:0.216535\n",
      "[72]\tvalidation_0-error:0.216535\n",
      "[73]\tvalidation_0-error:0.216535\n",
      "[74]\tvalidation_0-error:0.216535\n",
      "[75]\tvalidation_0-error:0.216535\n",
      "[76]\tvalidation_0-error:0.216535\n",
      "[77]\tvalidation_0-error:0.216535\n",
      "[78]\tvalidation_0-error:0.216535\n",
      "[79]\tvalidation_0-error:0.212598\n",
      "[80]\tvalidation_0-error:0.212598\n",
      "[81]\tvalidation_0-error:0.212598\n",
      "[82]\tvalidation_0-error:0.212598\n",
      "[83]\tvalidation_0-error:0.212598\n",
      "[84]\tvalidation_0-error:0.208661\n",
      "[85]\tvalidation_0-error:0.204724\n",
      "[86]\tvalidation_0-error:0.212598\n",
      "[87]\tvalidation_0-error:0.212598\n",
      "[88]\tvalidation_0-error:0.212598\n",
      "[89]\tvalidation_0-error:0.204724\n",
      "[90]\tvalidation_0-error:0.208661\n",
      "[91]\tvalidation_0-error:0.208661\n",
      "[92]\tvalidation_0-error:0.208661\n",
      "[93]\tvalidation_0-error:0.208661\n",
      "[94]\tvalidation_0-error:0.208661\n",
      "[95]\tvalidation_0-error:0.212598\n",
      "[96]\tvalidation_0-error:0.204724\n",
      "[97]\tvalidation_0-error:0.212598\n",
      "[98]\tvalidation_0-error:0.216535\n",
      "[99]\tvalidation_0-error:0.220472\n",
      "Accuracy: 77.95%\n"
     ]
    }
   ],
   "source": [
    "#Load Libraries\n",
    "from pandas import read_csv\n",
    "from xgboost import XGBClassifier\n",
    "from sklearn.model_selection import train_test_split\n",
    "from sklearn.metrics import accuracy_score\n",
    "\n",
    "#Load Data and split\n",
    "url = 'https://archive.ics.uci.edu/ml/machine-learning-databases/pima-indians-diabetes/pima-indians-diabetes.data'\n",
    "data = read_csv(url, header=None, delimiter = \",\")\n",
    "X = data.values[:,0:8]\n",
    "Y = data.values[:,8]\n",
    "\n",
    "#Split Train/Test\n",
    "X_train, X_test, Y_train, Y_test = train_test_split(X, Y, test_size = 0.33, random_state = 7)\n",
    "\n",
    "#Fit Model\n",
    "model = XGBClassifier()\n",
    "eval_set = [(X_test, Y_test)]\n",
    "model.fit(X_train, Y_train, eval_metric = \"error\", eval_set=eval_set, verbose=True)\n",
    "#Predict\n",
    "y_pred = model.predict(X_test)\n",
    "predictions = [round(value) for value in y_pred]\n",
    "#Evaluate\n",
    "accuracy = accuracy_score(Y_test, predictions)\n",
    "print(\"Accuracy: %.2f%%\" % (accuracy * 100.0))\n",
    "             "
   ]
  },
  {
   "cell_type": "markdown",
   "metadata": {},
   "source": [
    "Reviewing all of the output, we can see that the model performance on the test set sits flat and even gets worse towards the end of training."
   ]
  },
  {
   "cell_type": "markdown",
   "metadata": {},
   "source": [
    "# Evaluate XGBoost Models with Learning Curves\n",
    "We can retrieve the performance of the model on the evaluation dataset and plot it to get insight into how learning unfolded while training. We provide an array of X and y pairs to the eval metric argument when fitting our XGBoost model. In addition to a test set, we can also provide the training dataset. This will provide a report on how well the model is performing on both training and test sets during training."
   ]
  },
  {
   "cell_type": "code",
   "execution_count": 8,
   "metadata": {
    "collapsed": false
   },
   "outputs": [
    {
     "name": "stdout",
     "output_type": "stream",
     "text": [
      "Accuracy: 77.95%\n"
     ]
    },
    {
     "data": {
      "image/png": "[encoded data removed]",
      "text/plain": [
       "<matplotlib.figure.Figure at 0x113993a58>"
      ]
     },
     "metadata": {},
     "output_type": "display_data"
    },
    {
     "data": {
      "image/png": "[encoded data removed]",
      "text/plain": [
       "<matplotlib.figure.Figure at 0x113f78ba8>"
      ]
     },
     "metadata": {},
     "output_type": "display_data"
    }
   ],
   "source": [
    "#Load Libraries\n",
    "from pandas import read_csv\n",
    "from xgboost import XGBClassifier\n",
    "from sklearn.model_selection import train_test_split\n",
    "from sklearn.metrics import accuracy_score\n",
    "from matplotlib import pyplot\n",
    "\n",
    "#Load Data and split\n",
    "url = 'https://archive.ics.uci.edu/ml/machine-learning-databases/pima-indians-diabetes/pima-indians-diabetes.data'\n",
    "data = read_csv(url, header=None, delimiter = \",\")\n",
    "X = data.values[:,0:8]\n",
    "Y = data.values[:,8]\n",
    "\n",
    "#Split Train/Test\n",
    "x_train, x_test, y_train, y_test = train_test_split(X, Y, test_size = 0.33, random_state = 7)\n",
    "\n",
    "#Fit Model\n",
    "model = XGBClassifier()\n",
    "eval_set = [(x_train, y_train),(x_test, y_test)]\n",
    "model.fit(X_train, Y_train, eval_metric = [\"error\",\"logloss\"], eval_set=eval_set, verbose=False)\n",
    "#Predict\n",
    "y_pred = model.predict(X_test)\n",
    "predictions = [round(value) for value in y_pred]\n",
    "#Evaluate\n",
    "accuracy = accuracy_score(Y_test, predictions)\n",
    "print(\"Accuracy: %.2f%%\" % (accuracy * 100.0))\n",
    "\n",
    "#Retrieve performance metrics\n",
    "results = model.evals_result()\n",
    "epochs = len(results['validation_0']['error'])\n",
    "x_axis = range(0, epochs)\n",
    "\n",
    "#plot logloss\n",
    "fig, ax = pyplot.subplots()\n",
    "ax.plot(x_axis, results['validation_0']['logloss'], label='Train')\n",
    "ax.plot(x_axis, results['validation_1']['logloss'], label='Test')\n",
    "ax.legend()\n",
    "pyplot.ylabel('Log Loss')\n",
    "pyplot.ylabel('XGBoost Log Loss')\n",
    "pyplot.show()\n",
    "\n",
    "#plot classification error\n",
    "fig, ax = pyplot.subplots()\n",
    "ax.plot(x_axis, results['validation_0']['error'], label=\"Train\")\n",
    "ax.plot(x_axis, results['validation_1']['error'], label=\"Test\")\n",
    "ax.legend()\n",
    "pyplot.ylabel('Classification Error')\n",
    "pyplot.title('XGBoost Classification Erro')\n",
    "pyplot.show()"
   ]
  },
  {
   "cell_type": "markdown",
   "metadata": {},
   "source": [
    "From reviewing the logloss plot, it looks like there is an opportunity to stop the learning early, perhaps somewhere around epoch 20 to epoch 40. We see a similar story for classification error, where error appears to go back up at around epoch 40.\n"
   ]
  },
  {
   "cell_type": "markdown",
   "metadata": {},
   "source": [
    "# Early Stopping with XGBoost"
   ]
  },
  {
   "cell_type": "code",
   "execution_count": 9,
   "metadata": {
    "collapsed": false
   },
   "outputs": [
    {
     "name": "stdout",
     "output_type": "stream",
     "text": [
      "[0]\tvalidation_0-logloss:0.660186\n",
      "Will train until validation_0-logloss hasn't improved in 10 rounds.\n",
      "[1]\tvalidation_0-logloss:0.634854\n",
      "[2]\tvalidation_0-logloss:0.612239\n",
      "[3]\tvalidation_0-logloss:0.593118\n",
      "[4]\tvalidation_0-logloss:0.578303\n",
      "[5]\tvalidation_0-logloss:0.564942\n",
      "[6]\tvalidation_0-logloss:0.555113\n",
      "[7]\tvalidation_0-logloss:0.54499\n",
      "[8]\tvalidation_0-logloss:0.539151\n",
      "[9]\tvalidation_0-logloss:0.531819\n",
      "[10]\tvalidation_0-logloss:0.526065\n",
      "[11]\tvalidation_0-logloss:0.51977\n",
      "[12]\tvalidation_0-logloss:0.514979\n",
      "[13]\tvalidation_0-logloss:0.50927\n",
      "[14]\tvalidation_0-logloss:0.506086\n",
      "[15]\tvalidation_0-logloss:0.503565\n",
      "[16]\tvalidation_0-logloss:0.503591\n",
      "[17]\tvalidation_0-logloss:0.500805\n",
      "[18]\tvalidation_0-logloss:0.497605\n",
      "[19]\tvalidation_0-logloss:0.495328\n",
      "[20]\tvalidation_0-logloss:0.494777\n",
      "[21]\tvalidation_0-logloss:0.494274\n",
      "[22]\tvalidation_0-logloss:0.493333\n",
      "[23]\tvalidation_0-logloss:0.492211\n",
      "[24]\tvalidation_0-logloss:0.491936\n",
      "[25]\tvalidation_0-logloss:0.490578\n",
      "[26]\tvalidation_0-logloss:0.490895\n",
      "[27]\tvalidation_0-logloss:0.490646\n",
      "[28]\tvalidation_0-logloss:0.491911\n",
      "[29]\tvalidation_0-logloss:0.491407\n",
      "[30]\tvalidation_0-logloss:0.488828\n",
      "[31]\tvalidation_0-logloss:0.487867\n",
      "[32]\tvalidation_0-logloss:0.487297\n",
      "[33]\tvalidation_0-logloss:0.487562\n",
      "[34]\tvalidation_0-logloss:0.487788\n",
      "[35]\tvalidation_0-logloss:0.487962\n",
      "[36]\tvalidation_0-logloss:0.488218\n",
      "[37]\tvalidation_0-logloss:0.489582\n",
      "[38]\tvalidation_0-logloss:0.489334\n",
      "[39]\tvalidation_0-logloss:0.490969\n",
      "[40]\tvalidation_0-logloss:0.48978\n",
      "[41]\tvalidation_0-logloss:0.490704\n",
      "[42]\tvalidation_0-logloss:0.492369\n",
      "Stopping. Best iteration:\n",
      "[32]\tvalidation_0-logloss:0.487297\n",
      "\n",
      "Accuracy: 78.35%\n"
     ]
    }
   ],
   "source": [
    "#Load Libraries\n",
    "from pandas import read_csv\n",
    "from xgboost import XGBClassifier\n",
    "from sklearn.model_selection import train_test_split\n",
    "from sklearn.metrics import accuracy_score\n",
    "from matplotlib import pyplot\n",
    "\n",
    "#Load Data and split\n",
    "url = 'https://archive.ics.uci.edu/ml/machine-learning-databases/pima-indians-diabetes/pima-indians-diabetes.data'\n",
    "data = read_csv(url, header=None, delimiter = \",\")\n",
    "X = data.values[:,0:8]\n",
    "Y = data.values[:,8]\n",
    "\n",
    "#Split Train/Test\n",
    "x_train, x_test, y_train, y_test = train_test_split(X, Y, test_size = 0.33, random_state = 7)\n",
    "\n",
    "#Fit Model\n",
    "model = XGBClassifier()\n",
    "eval_set = [(x_test, y_test)]\n",
    "model.fit(X_train, Y_train, early_stopping_rounds = 10,\n",
    "          eval_metric = \"logloss\", eval_set=eval_set, verbose=True)\n",
    "#Predict\n",
    "y_pred = model.predict(X_test)\n",
    "predictions = [round(value) for value in y_pred]\n",
    "#Evaluate\n",
    "accuracy = accuracy_score(Y_test, predictions)\n",
    "print(\"Accuracy: %.2f%%\" % (accuracy * 100.0))\n"
   ]
  }
 ],
 "metadata": {
  "kernelspec": {
   "display_name": "Python 3",
   "language": "python",
   "name": "python3"
  },
  "language_info": {
   "codemirror_mode": {
    "name": "ipython",
    "version": 3
   },
   "file_extension": ".py",
   "mimetype": "text/x-python",
   "name": "python",
   "nbconvert_exporter": "python",
   "pygments_lexer": "ipython3",
   "version": "3.6.0"
  }
 },
 "nbformat": 4,
 "nbformat_minor": 2
}
